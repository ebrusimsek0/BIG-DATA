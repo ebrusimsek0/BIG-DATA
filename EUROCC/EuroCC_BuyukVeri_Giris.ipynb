{
  "nbformat": 4,
  "nbformat_minor": 0,
  "metadata": {
    "colab": {
      "name": "EuroCC_BuyukVeri_Giris.ipynb",
      "provenance": []
    },
    "kernelspec": {
      "name": "python3",
      "display_name": "Python 3"
    }
  },
  "cells": [
    {
      "cell_type": "code",
      "metadata": {
        "colab": {
          "base_uri": "https://localhost:8080/"
        },
        "id": "TUHRQxtcG79A",
        "outputId": "c5b226c2-b625-48de-c5a9-a59f5a6d4757"
      },
      "source": [
        "!apt-get update\n",
        "!apt-get install openjdk-8-jdk-headless -qq > /dev/null\n",
        "import os\n",
        "os.environ[\"JAVA_HOME\"] = \"/usr/lib/jvm/java-8-openjdk-amd64\"\n",
        "!update-alternatives --set java /usr/lib/jvm/java-8-openjdk-amd64/jre/bin/java\n",
        "!java -version\n",
        "!pip install pyspark"
      ],
      "execution_count": null,
      "outputs": [
        {
          "output_type": "stream",
          "text": [
            "\r0% [Working]\r            \rIgn:1 https://developer.download.nvidia.com/compute/cuda/repos/ubuntu1804/x86_64  InRelease\n",
            "\r0% [Waiting for headers] [Connecting to security.ubuntu.com (91.189.88.152)] [C\r                                                                               \rHit:2 https://cloud.r-project.org/bin/linux/ubuntu bionic-cran40/ InRelease\n",
            "\r0% [Waiting for headers] [Waiting for headers] [Waiting for headers] [Waiting f\r0% [2 InRelease gpgv 3,626 B] [Waiting for headers] [Waiting for headers] [Wait\r                                                                               \rIgn:3 https://developer.download.nvidia.com/compute/machine-learning/repos/ubuntu1804/x86_64  InRelease\n",
            "\r0% [2 InRelease gpgv 3,626 B] [Waiting for headers] [Waiting for headers] [Wait\r                                                                               \rHit:4 http://archive.ubuntu.com/ubuntu bionic InRelease\n",
            "Get:5 http://ppa.launchpad.net/c2d4u.team/c2d4u4.0+/ubuntu bionic InRelease [15.9 kB]\n",
            "Hit:6 https://developer.download.nvidia.com/compute/cuda/repos/ubuntu1804/x86_64  Release\n",
            "Hit:7 https://developer.download.nvidia.com/compute/machine-learning/repos/ubuntu1804/x86_64  Release\n",
            "Get:8 http://security.ubuntu.com/ubuntu bionic-security InRelease [88.7 kB]\n",
            "Get:9 http://archive.ubuntu.com/ubuntu bionic-updates InRelease [88.7 kB]\n",
            "Hit:10 http://ppa.launchpad.net/cran/libgit2/ubuntu bionic InRelease\n",
            "Get:11 http://archive.ubuntu.com/ubuntu bionic-backports InRelease [74.6 kB]\n",
            "Hit:12 http://ppa.launchpad.net/graphics-drivers/ppa/ubuntu bionic InRelease\n",
            "Get:15 http://ppa.launchpad.net/c2d4u.team/c2d4u4.0+/ubuntu bionic/main Sources [1,714 kB]\n",
            "Get:16 http://security.ubuntu.com/ubuntu bionic-security/main amd64 Packages [1,889 kB]\n",
            "Get:17 http://security.ubuntu.com/ubuntu bionic-security/universe amd64 Packages [1,379 kB]\n",
            "Get:18 http://ppa.launchpad.net/c2d4u.team/c2d4u4.0+/ubuntu bionic/main amd64 Packages [877 kB]\n",
            "Fetched 6,128 kB in 3s (2,246 kB/s)\n",
            "Reading package lists... Done\n",
            "openjdk version \"1.8.0_275\"\n",
            "OpenJDK Runtime Environment (build 1.8.0_275-8u275-b01-0ubuntu1~18.04-b01)\n",
            "OpenJDK 64-Bit Server VM (build 25.275-b01, mixed mode)\n",
            "Requirement already satisfied: pyspark in /usr/local/lib/python3.6/dist-packages (3.0.1)\n",
            "Requirement already satisfied: py4j==0.10.9 in /usr/local/lib/python3.6/dist-packages (from pyspark) (0.10.9)\n"
          ],
          "name": "stdout"
        }
      ]
    },
    {
      "cell_type": "code",
      "metadata": {
        "colab": {
          "base_uri": "https://localhost:8080/"
        },
        "id": "C15dqzUfHAq0",
        "outputId": "2c8bc8dc-4c56-4b9f-aa22-ed336fa0dc37"
      },
      "source": [
        "from pyspark import SparkContext\n",
        "\n",
        "sc = SparkContext.getOrCreate()\n",
        "\n",
        "sayilar = [1,2,3,4,5,6,7,8]\n",
        "kareler = []\n",
        "for sayi in sayilar:\n",
        "  kareler.append(sayi*sayi)\n",
        "print(sayilar)\n",
        "print(kareler)\n",
        "\n",
        "sayilarRDD = sc.parallelize(sayilar)\n",
        "#Transformation (map,filter,flatmap,sort,....vs)\n",
        "#Action\n",
        "print(\"Aşağıdakiler Paralel yapılan işlem sonucu\")\n",
        "karelerRDD = sayilarRDD.map(lambda s : s*s)\n",
        "print(karelerRDD.collect())\n",
        "\n",
        "irisRDD= sc.textFile(\"/content/iris-dataset.txt\")\n",
        "print(irisRDD.collect())"
      ],
      "execution_count": null,
      "outputs": [
        {
          "output_type": "stream",
          "text": [
            "[1, 2, 3, 4, 5, 6, 7, 8]\n",
            "[1, 4, 9, 16, 25, 36, 49, 64]\n",
            "Aşağıdakiler Paralel yapılan işlem sonucu\n",
            "[1, 4, 9, 16, 25, 36, 49, 64]\n",
            "['sepal-length,sepal-width,petal-length,petal-width,class', '5.1,3.5,1.4,0.2,Iris-setosa', '4.9,3.0,1.4,0.2,Iris-setosa', '4.7,3.2,1.3,0.2,Iris-setosa', '4.6,3.1,1.5,0.2,Iris-setosa', '5.0,3.6,1.4,0.2,Iris-setosa', '5.4,3.9,1.7,0.4,Iris-setosa', '4.6,3.4,1.4,0.3,Iris-setosa', '5.0,3.4,1.5,0.2,Iris-setosa', '4.4,2.9,1.4,0.2,Iris-setosa', '4.9,3.1,1.5,0.1,Iris-setosa', '5.4,3.7,1.5,0.2,Iris-setosa', '4.8,3.4,1.6,0.2,Iris-setosa', '4.8,3.0,1.4,0.1,Iris-setosa', '4.3,3.0,1.1,0.1,Iris-setosa', '5.8,4.0,1.2,0.2,Iris-setosa', '5.7,4.4,1.5,0.4,Iris-setosa', '5.4,3.9,1.3,0.4,Iris-setosa', '5.1,3.5,1.4,0.3,Iris-setosa', '5.7,3.8,1.7,0.3,Iris-setosa', '5.1,3.8,1.5,0.3,Iris-setosa', '5.4,3.4,1.7,0.2,Iris-setosa', '5.1,3.7,1.5,0.4,Iris-setosa', '4.6,3.6,1.0,0.2,Iris-setosa', '5.1,3.3,1.7,0.5,Iris-setosa', '4.8,3.4,1.9,0.2,Iris-setosa', '5.0,3.0,1.6,0.2,Iris-setosa', '5.0,3.4,1.6,0.4,Iris-setosa', '5.2,3.5,1.5,0.2,Iris-setosa', '5.2,3.4,1.4,0.2,Iris-setosa', '4.7,3.2,1.6,0.2,Iris-setosa', '4.8,3.1,1.6,0.2,Iris-setosa', '5.4,3.4,1.5,0.4,Iris-setosa', '5.2,4.1,1.5,0.1,Iris-setosa', '5.5,4.2,1.4,0.2,Iris-setosa', '4.9,3.1,1.5,0.1,Iris-setosa', '5.0,3.2,1.2,0.2,Iris-setosa', '5.5,3.5,1.3,0.2,Iris-setosa', '4.9,3.1,1.5,0.1,Iris-setosa', '4.4,3.0,1.3,0.2,Iris-setosa', '5.1,3.4,1.5,0.2,Iris-setosa', '5.0,3.5,1.3,0.3,Iris-setosa', '4.5,2.3,1.3,0.3,Iris-setosa', '4.4,3.2,1.3,0.2,Iris-setosa', '5.0,3.5,1.6,0.6,Iris-setosa', '5.1,3.8,1.9,0.4,Iris-setosa', '4.8,3.0,1.4,0.3,Iris-setosa', '5.1,3.8,1.6,0.2,Iris-setosa', '4.6,3.2,1.4,0.2,Iris-setosa', '5.3,3.7,1.5,0.2,Iris-setosa', '5.0,3.3,1.4,0.2,Iris-setosa', '7.0,3.2,4.7,1.4,Iris-versicolor', '6.4,3.2,4.5,1.5,Iris-versicolor', '6.9,3.1,4.9,1.5,Iris-versicolor', '5.5,2.3,4.0,1.3,Iris-versicolor', '6.5,2.8,4.6,1.5,Iris-versicolor', '5.7,2.8,4.5,1.3,Iris-versicolor', '6.3,3.3,4.7,1.6,Iris-versicolor', '4.9,2.4,3.3,1.0,Iris-versicolor', '6.6,2.9,4.6,1.3,Iris-versicolor', '5.2,2.7,3.9,1.4,Iris-versicolor', '5.0,2.0,3.5,1.0,Iris-versicolor', '5.9,3.0,4.2,1.5,Iris-versicolor', '6.0,2.2,4.0,1.0,Iris-versicolor', '6.1,2.9,4.7,1.4,Iris-versicolor', '5.6,2.9,3.6,1.3,Iris-versicolor', '6.7,3.1,4.4,1.4,Iris-versicolor', '5.6,3.0,4.5,1.5,Iris-versicolor', '5.8,2.7,4.1,1.0,Iris-versicolor', '6.2,2.2,4.5,1.5,Iris-versicolor', '5.6,2.5,3.9,1.1,Iris-versicolor', '5.9,3.2,4.8,1.8,Iris-versicolor', '6.1,2.8,4.0,1.3,Iris-versicolor', '6.3,2.5,4.9,1.5,Iris-versicolor', '6.1,2.8,4.7,1.2,Iris-versicolor', '6.4,2.9,4.3,1.3,Iris-versicolor', '6.6,3.0,4.4,1.4,Iris-versicolor', '6.8,2.8,4.8,1.4,Iris-versicolor', '6.7,3.0,5.0,1.7,Iris-versicolor', '6.0,2.9,4.5,1.5,Iris-versicolor', '5.7,2.6,3.5,1.0,Iris-versicolor', '5.5,2.4,3.8,1.1,Iris-versicolor', '5.5,2.4,3.7,1.0,Iris-versicolor', '5.8,2.7,3.9,1.2,Iris-versicolor', '6.0,2.7,5.1,1.6,Iris-versicolor', '5.4,3.0,4.5,1.5,Iris-versicolor', '6.0,3.4,4.5,1.6,Iris-versicolor', '6.7,3.1,4.7,1.5,Iris-versicolor', '6.3,2.3,4.4,1.3,Iris-versicolor', '5.6,3.0,4.1,1.3,Iris-versicolor', '5.5,2.5,4.0,1.3,Iris-versicolor', '5.5,2.6,4.4,1.2,Iris-versicolor', '6.1,3.0,4.6,1.4,Iris-versicolor', '5.8,2.6,4.0,1.2,Iris-versicolor', '5.0,2.3,3.3,1.0,Iris-versicolor', '5.6,2.7,4.2,1.3,Iris-versicolor', '5.7,3.0,4.2,1.2,Iris-versicolor', '5.7,2.9,4.2,1.3,Iris-versicolor', '6.2,2.9,4.3,1.3,Iris-versicolor', '5.1,2.5,3.0,1.1,Iris-versicolor', '5.7,2.8,4.1,1.3,Iris-versicolor', '6.3,3.3,6.0,2.5,Iris-virginica', '5.8,2.7,5.1,1.9,Iris-virginica', '7.1,3.0,5.9,2.1,Iris-virginica', '6.3,2.9,5.6,1.8,Iris-virginica', '6.5,3.0,5.8,2.2,Iris-virginica', '7.6,3.0,6.6,2.1,Iris-virginica', '4.9,2.5,4.5,1.7,Iris-virginica', '7.3,2.9,6.3,1.8,Iris-virginica', '6.7,2.5,5.8,1.8,Iris-virginica', '7.2,3.6,6.1,2.5,Iris-virginica', '6.5,3.2,5.1,2.0,Iris-virginica', '6.4,2.7,5.3,1.9,Iris-virginica', '6.8,3.0,5.5,2.1,Iris-virginica', '5.7,2.5,5.0,2.0,Iris-virginica', '5.8,2.8,5.1,2.4,Iris-virginica', '6.4,3.2,5.3,2.3,Iris-virginica', '6.5,3.0,5.5,1.8,Iris-virginica', '7.7,3.8,6.7,2.2,Iris-virginica', '7.7,2.6,6.9,2.3,Iris-virginica', '6.0,2.2,5.0,1.5,Iris-virginica', '6.9,3.2,5.7,2.3,Iris-virginica', '5.6,2.8,4.9,2.0,Iris-virginica', '7.7,2.8,6.7,2.0,Iris-virginica', '6.3,2.7,4.9,1.8,Iris-virginica', '6.7,3.3,5.7,2.1,Iris-virginica', '7.2,3.2,6.0,1.8,Iris-virginica', '6.2,2.8,4.8,1.8,Iris-virginica', '6.1,3.0,4.9,1.8,Iris-virginica', '6.4,2.8,5.6,2.1,Iris-virginica', '7.2,3.0,5.8,1.6,Iris-virginica', '7.4,2.8,6.1,1.9,Iris-virginica', '7.9,3.8,6.4,2.0,Iris-virginica', '6.4,2.8,5.6,2.2,Iris-virginica', '6.3,2.8,5.1,1.5,Iris-virginica', '6.1,2.6,5.6,1.4,Iris-virginica', '7.7,3.0,6.1,2.3,Iris-virginica', '6.3,3.4,5.6,2.4,Iris-virginica', '6.4,3.1,5.5,1.8,Iris-virginica', '6.0,3.0,4.8,1.8,Iris-virginica', '6.9,3.1,5.4,2.1,Iris-virginica', '6.7,3.1,5.6,2.4,Iris-virginica', '6.9,3.1,5.1,2.3,Iris-virginica', '5.8,2.7,5.1,1.9,Iris-virginica', '6.8,3.2,5.9,2.3,Iris-virginica', '6.7,3.3,5.7,2.5,Iris-virginica', '6.7,3.0,5.2,2.3,Iris-virginica', '6.3,2.5,5.0,1.9,Iris-virginica', '6.5,3.0,5.2,2.0,Iris-virginica', '6.2,3.4,5.4,2.3,Iris-virginica', '5.9,3.0,5.1,1.8,Iris-virginica']\n"
          ],
          "name": "stdout"
        }
      ]
    },
    {
      "cell_type": "code",
      "metadata": {
        "colab": {
          "base_uri": "https://localhost:8080/"
        },
        "id": "lvJetQCnHuYW",
        "outputId": "b393f8c1-20b3-4d13-fdee-ea2cd30b053c"
      },
      "source": [
        "from pyspark.sql import SparkSession\n",
        "from pyspark.ml.feature import VectorAssembler,StringIndexer\n",
        "from pyspark.ml.classification import DecisionTreeClassifier\n",
        "from pyspark.ml.evaluation import MulticlassClassificationEvaluator\n",
        "from pyspark.ml.tuning import CrossValidator\n",
        "\n",
        "spark = SparkSession.builder.appName(\"Spark ML\").getOrCreate()\n",
        "irisDF = spark.read.option(\"inferSchema\",\"true\").option(\"header\",\"true\").csv(\"/content/iris-dataset.txt\")\n",
        "#irisDF.show()\n",
        "vec = VectorAssembler(inputCols=[\"sepal-length\",\"sepal-width\",\"petal-length\",\"petal-width\"],\n",
        "                      outputCol=\"features\")\n",
        "irisDF = vec.transform(irisDF)\n",
        "indexer = StringIndexer(inputCol=\"class\",outputCol=\"label\")\n",
        "irisDF = indexer.fit(irisDF).transform(irisDF)\n",
        "irisDF = irisDF.select(\"features\",\"label\")\n",
        "#irisDF.show()\n",
        "classifier= DecisionTreeClassifier()\n",
        "#makine öğrenmesi yapılıyor ( Model Training)\n",
        "#Model başarısını görmek için\n",
        "trainDF, testDF = irisDF.randomSplit([0.75,0.25],seed=1234)\n",
        "\n",
        "model = classifier.fit(trainDF)\n",
        "print(\"Makine öğrenmesi tamamlandı\")\n",
        "#print(model.toDebugString)\n",
        "\n",
        "resultDF = model.transform(testDF)\n",
        "resultDF.show(100)\n",
        "eva = MulticlassClassificationEvaluator(metricName=\"accuracy\")\n",
        "basari = eva.evaluate(resultDF)\n",
        "print(\"Başarı oranımız : \",basari)"
      ],
      "execution_count": null,
      "outputs": [
        {
          "output_type": "stream",
          "text": [
            "Makine öğrenmesi tamamlandı\n",
            "+-----------------+-----+--------------+-------------+----------+\n",
            "|         features|label| rawPrediction|  probability|prediction|\n",
            "+-----------------+-----+--------------+-------------+----------+\n",
            "|[4.4,2.9,1.4,0.2]|  0.0|[34.0,0.0,0.0]|[1.0,0.0,0.0]|       0.0|\n",
            "|[4.5,2.3,1.3,0.3]|  0.0|[34.0,0.0,0.0]|[1.0,0.0,0.0]|       0.0|\n",
            "|[4.9,3.1,1.5,0.1]|  0.0|[34.0,0.0,0.0]|[1.0,0.0,0.0]|       0.0|\n",
            "|[5.0,3.0,1.6,0.2]|  0.0|[34.0,0.0,0.0]|[1.0,0.0,0.0]|       0.0|\n",
            "|[5.0,3.2,1.2,0.2]|  0.0|[34.0,0.0,0.0]|[1.0,0.0,0.0]|       0.0|\n",
            "|[5.0,3.3,1.4,0.2]|  0.0|[34.0,0.0,0.0]|[1.0,0.0,0.0]|       0.0|\n",
            "|[5.0,3.4,1.5,0.2]|  0.0|[34.0,0.0,0.0]|[1.0,0.0,0.0]|       0.0|\n",
            "|[5.0,3.5,1.3,0.3]|  0.0|[34.0,0.0,0.0]|[1.0,0.0,0.0]|       0.0|\n",
            "|[5.0,3.6,1.4,0.2]|  0.0|[34.0,0.0,0.0]|[1.0,0.0,0.0]|       0.0|\n",
            "|[5.1,2.5,3.0,1.1]|  1.0|[0.0,32.0,0.0]|[0.0,1.0,0.0]|       1.0|\n",
            "|[5.1,3.5,1.4,0.3]|  0.0|[34.0,0.0,0.0]|[1.0,0.0,0.0]|       0.0|\n",
            "|[5.3,3.7,1.5,0.2]|  0.0|[34.0,0.0,0.0]|[1.0,0.0,0.0]|       0.0|\n",
            "|[5.4,3.4,1.5,0.4]|  0.0|[34.0,0.0,0.0]|[1.0,0.0,0.0]|       0.0|\n",
            "|[5.5,2.3,4.0,1.3]|  1.0|[0.0,32.0,0.0]|[0.0,1.0,0.0]|       1.0|\n",
            "|[5.5,2.6,4.4,1.2]|  1.0|[0.0,32.0,0.0]|[0.0,1.0,0.0]|       1.0|\n",
            "|[5.5,3.5,1.3,0.2]|  0.0|[34.0,0.0,0.0]|[1.0,0.0,0.0]|       0.0|\n",
            "|[5.5,4.2,1.4,0.2]|  0.0|[34.0,0.0,0.0]|[1.0,0.0,0.0]|       0.0|\n",
            "|[5.6,3.0,4.1,1.3]|  1.0|[0.0,32.0,0.0]|[0.0,1.0,0.0]|       1.0|\n",
            "|[5.7,2.6,3.5,1.0]|  1.0|[0.0,32.0,0.0]|[0.0,1.0,0.0]|       1.0|\n",
            "|[5.7,2.9,4.2,1.3]|  1.0|[0.0,32.0,0.0]|[0.0,1.0,0.0]|       1.0|\n",
            "|[5.7,3.8,1.7,0.3]|  0.0|[34.0,0.0,0.0]|[1.0,0.0,0.0]|       0.0|\n",
            "|[5.7,4.4,1.5,0.4]|  0.0|[34.0,0.0,0.0]|[1.0,0.0,0.0]|       0.0|\n",
            "|[5.8,2.7,5.1,1.9]|  2.0|[0.0,0.0,33.0]|[0.0,0.0,1.0]|       2.0|\n",
            "|[6.0,2.2,5.0,1.5]|  2.0|[0.0,32.0,0.0]|[0.0,1.0,0.0]|       1.0|\n",
            "|[6.0,2.9,4.5,1.5]|  1.0|[0.0,32.0,0.0]|[0.0,1.0,0.0]|       1.0|\n",
            "|[6.1,2.6,5.6,1.4]|  2.0| [0.0,0.0,1.0]|[0.0,0.0,1.0]|       2.0|\n",
            "|[6.1,2.8,4.0,1.3]|  1.0|[0.0,32.0,0.0]|[0.0,1.0,0.0]|       1.0|\n",
            "|[6.1,2.8,4.7,1.2]|  1.0|[0.0,32.0,0.0]|[0.0,1.0,0.0]|       1.0|\n",
            "|[6.1,3.0,4.6,1.4]|  1.0|[0.0,32.0,0.0]|[0.0,1.0,0.0]|       1.0|\n",
            "|[6.1,3.0,4.9,1.8]|  2.0|[0.0,0.0,33.0]|[0.0,0.0,1.0]|       2.0|\n",
            "|[6.3,2.5,4.9,1.5]|  1.0|[0.0,32.0,0.0]|[0.0,1.0,0.0]|       1.0|\n",
            "|[6.3,2.7,4.9,1.8]|  2.0|[0.0,0.0,33.0]|[0.0,0.0,1.0]|       2.0|\n",
            "|[6.3,2.9,5.6,1.8]|  2.0|[0.0,0.0,33.0]|[0.0,0.0,1.0]|       2.0|\n",
            "|[6.3,3.3,4.7,1.6]|  1.0|[0.0,32.0,0.0]|[0.0,1.0,0.0]|       1.0|\n",
            "|[6.4,2.8,5.6,2.1]|  2.0|[0.0,0.0,33.0]|[0.0,0.0,1.0]|       2.0|\n",
            "|[6.4,3.2,4.5,1.5]|  1.0|[0.0,32.0,0.0]|[0.0,1.0,0.0]|       1.0|\n",
            "|[6.6,3.0,4.4,1.4]|  1.0|[0.0,32.0,0.0]|[0.0,1.0,0.0]|       1.0|\n",
            "|[6.7,2.5,5.8,1.8]|  2.0|[0.0,0.0,33.0]|[0.0,0.0,1.0]|       2.0|\n",
            "|[6.7,3.1,4.7,1.5]|  1.0|[0.0,32.0,0.0]|[0.0,1.0,0.0]|       1.0|\n",
            "|[6.7,3.1,5.6,2.4]|  2.0|[0.0,0.0,33.0]|[0.0,0.0,1.0]|       2.0|\n",
            "|[6.7,3.3,5.7,2.5]|  2.0|[0.0,0.0,33.0]|[0.0,0.0,1.0]|       2.0|\n",
            "|[6.8,3.2,5.9,2.3]|  2.0|[0.0,0.0,33.0]|[0.0,0.0,1.0]|       2.0|\n",
            "|[7.2,3.0,5.8,1.6]|  2.0| [0.0,0.0,1.0]|[0.0,0.0,1.0]|       2.0|\n",
            "|[7.7,3.0,6.1,2.3]|  2.0|[0.0,0.0,33.0]|[0.0,0.0,1.0]|       2.0|\n",
            "+-----------------+-----+--------------+-------------+----------+\n",
            "\n",
            "Başarı oranımız :  0.9772727272727273\n"
          ],
          "name": "stdout"
        }
      ]
    },
    {
      "cell_type": "code",
      "metadata": {
        "colab": {
          "base_uri": "https://localhost:8080/"
        },
        "id": "bnUZJTEqNAvZ",
        "outputId": "e4b4bfab-c34b-439b-f1c5-1c4d0bb50e4a"
      },
      "source": [
        "yeniDF = spark.read.option(\"inferSchema\",\"true\").option(\"header\",\"true\").csv(\"/content/yeni-veriler.txt\")\n",
        "yeniDF.show()\n",
        "yeniDF = vec.transform(yeniDF)\n",
        "#Tahmin yapıyorum ( Prediction)\n",
        "sonucDF = model.transform(yeniDF)\n",
        "print(\"bitti gitti\")\n",
        "sonucDF.show()"
      ],
      "execution_count": null,
      "outputs": [
        {
          "output_type": "stream",
          "text": [
            "+------------+-----------+------------+-----------+\n",
            "|sepal-length|sepal-width|petal-length|petal-width|\n",
            "+------------+-----------+------------+-----------+\n",
            "|         4.6|        2.2|         1.4|        0.2|\n",
            "|         6.0|        3.3|         1.4|        0.2|\n",
            "|         7.0|        1.2|         4.7|        1.4|\n",
            "|         6.4|        3.2|         4.5|        1.5|\n",
            "|         6.2|        4.4|         5.4|        2.3|\n",
            "|         5.9|        3.0|         5.1|        1.9|\n",
            "+------------+-----------+------------+-----------+\n",
            "\n",
            "bitti gitti\n",
            "+------------+-----------+------------+-----------+-----------------+--------------+-------------+----------+\n",
            "|sepal-length|sepal-width|petal-length|petal-width|         features| rawPrediction|  probability|prediction|\n",
            "+------------+-----------+------------+-----------+-----------------+--------------+-------------+----------+\n",
            "|         4.6|        2.2|         1.4|        0.2|[4.6,2.2,1.4,0.2]|[34.0,0.0,0.0]|[1.0,0.0,0.0]|       0.0|\n",
            "|         6.0|        3.3|         1.4|        0.2|[6.0,3.3,1.4,0.2]|[34.0,0.0,0.0]|[1.0,0.0,0.0]|       0.0|\n",
            "|         7.0|        1.2|         4.7|        1.4|[7.0,1.2,4.7,1.4]|[0.0,32.0,0.0]|[0.0,1.0,0.0]|       1.0|\n",
            "|         6.4|        3.2|         4.5|        1.5|[6.4,3.2,4.5,1.5]|[0.0,32.0,0.0]|[0.0,1.0,0.0]|       1.0|\n",
            "|         6.2|        4.4|         5.4|        2.3|[6.2,4.4,5.4,2.3]|[0.0,0.0,33.0]|[0.0,0.0,1.0]|       2.0|\n",
            "|         5.9|        3.0|         5.1|        1.9|[5.9,3.0,5.1,1.9]|[0.0,0.0,33.0]|[0.0,0.0,1.0]|       2.0|\n",
            "+------------+-----------+------------+-----------+-----------------+--------------+-------------+----------+\n",
            "\n"
          ],
          "name": "stdout"
        }
      ]
    }
  ]
}